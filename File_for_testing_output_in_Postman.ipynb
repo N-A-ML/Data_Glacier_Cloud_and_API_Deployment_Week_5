{
 "cells": [
  {
   "cell_type": "code",
   "execution_count": 7,
   "id": "07d66bfb",
   "metadata": {
    "scrolled": true
   },
   "outputs": [
    {
     "name": "stdout",
     "output_type": "stream",
     "text": [
      " * Serving Flask app \"__main__\" (lazy loading)\n",
      " * Environment: production\n",
      "   WARNING: This is a development server. Do not use it in a production deployment.\n",
      "   Use a production WSGI server instead.\n",
      " * Debug mode: on\n"
     ]
    },
    {
     "name": "stderr",
     "output_type": "stream",
     "text": [
      " * Running on http://127.0.0.1:5000/ (Press CTRL+C to quit)\n"
     ]
    }
   ],
   "source": [
    "import numpy as np\n",
    "import pandas as pd\n",
    "from flask import Flask, jsonify, request, render_template\n",
    "import joblib\n",
    "from joblib import load\n",
    "from sklearn.neighbors import KNeighborsClassifier\n",
    "import os\n",
    "app=Flask(__name__)\n",
    "\n",
    "\n",
    "\n",
    "@app.route('/', methods= ['GET','POST'])\n",
    "def home():\n",
    "    if(request.method==\"GET\"):\n",
    "        data= \"hello world\"\n",
    "        return jsonify({'data':data})\n",
    "@app.route('/predict/')\n",
    "def predict():\n",
    "    model=load('model.joblib')\n",
    "    sepal_length=request.args.get('sepal_length')\n",
    "    sepal_width=request.args.get('sepal_width')\n",
    "    petal_length=request.args.get('petal_length')\n",
    "    petal_width=request.args.get('petal_width')\n",
    "    \n",
    "    test_df= pd.DataFrame({'sepal length':[sepal_length], 'sepal width':[sepal_width], 'petal length':[petal_length], 'petal width':[petal_width]}) \n",
    "  \n",
    "    model_prediction=model.predict(test_df)\n",
    "    model_prediction=np.around(model_prediction, 2)\n",
    "    \n",
    "    output=\"\"\n",
    "    if model_prediction[0]==0:\n",
    "        output+=\"Setosa\"\n",
    "        \n",
    "    elif model_prediction[0]==1:\n",
    "        output+=\"Versicolor\"\n",
    "        \n",
    "    else:\n",
    "        output+=\"Virginica\"\n",
    "          \n",
    "    \n",
    "    return jsonify({'Iris Type': str(output)})\n",
    "if __name__==\"__main__\":\n",
    "    app.run(debug=True, \n",
    "            use_reloader=False\n",
    "           )\n"
   ]
  },
  {
   "cell_type": "code",
   "execution_count": 10,
   "id": "14ffaaae",
   "metadata": {},
   "outputs": [
    {
     "name": "stderr",
     "output_type": "stream",
     "text": [
      "[NbConvertApp] Converting notebook File_for_testing_output_in_Postman.ipynb to script\n",
      "[NbConvertApp] Writing 1394 bytes to File_for_testing_output_in_Postman.py\n"
     ]
    }
   ],
   "source": [
    "!jupyter nbconvert File_for_testing_output_in_Postman.ipynb --to script"
   ]
  },
  {
   "cell_type": "code",
   "execution_count": null,
   "id": "85c3b76c",
   "metadata": {},
   "outputs": [],
   "source": []
  }
 ],
 "metadata": {
  "kernelspec": {
   "display_name": "Python 3",
   "language": "python",
   "name": "python3"
  },
  "language_info": {
   "codemirror_mode": {
    "name": "ipython",
    "version": 3
   },
   "file_extension": ".py",
   "mimetype": "text/x-python",
   "name": "python",
   "nbconvert_exporter": "python",
   "pygments_lexer": "ipython3",
   "version": "3.8.8"
  }
 },
 "nbformat": 4,
 "nbformat_minor": 5
}
